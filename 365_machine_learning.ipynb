{
  "nbformat": 4,
  "nbformat_minor": 0,
  "metadata": {
    "colab": {
      "name": "365_machine_learning.ipynb",
      "provenance": [],
      "toc_visible": true,
      "authorship_tag": "ABX9TyPZRoUfiS+g0c23agl5RmFF",
      "include_colab_link": true
    },
    "kernelspec": {
      "name": "python3",
      "display_name": "Python 3"
    }
  },
  "cells": [
    {
      "cell_type": "markdown",
      "metadata": {
        "id": "view-in-github",
        "colab_type": "text"
      },
      "source": [
        "<a href=\"https://colab.research.google.com/github/guruboy001/gurucodes/blob/master/365_machine_learning.ipynb\" target=\"_parent\"><img src=\"https://colab.research.google.com/assets/colab-badge.svg\" alt=\"Open In Colab\"/></a>"
      ]
    },
    {
      "cell_type": "code",
      "metadata": {
        "id": "N8d33aLwrUTm",
        "colab_type": "code",
        "colab": {}
      },
      "source": [
        "import pandas as pd \n",
        "import numpy as np"
      ],
      "execution_count": 0,
      "outputs": []
    },
    {
      "cell_type": "code",
      "metadata": {
        "id": "USOTbqe4rqyN",
        "colab_type": "code",
        "colab": {}
      },
      "source": [
        "data = pd.read_csv('/content/data_365_processed.csv')"
      ],
      "execution_count": 0,
      "outputs": []
    },
    {
      "cell_type": "code",
      "metadata": {
        "id": "HMGnbh8VsHDF",
        "colab_type": "code",
        "outputId": "4ff548c8-0504-415c-e976-085bbc0ddf63",
        "colab": {
          "base_uri": "https://localhost:8080/",
          "height": 228
        }
      },
      "source": [
        "data.head()"
      ],
      "execution_count": 141,
      "outputs": [
        {
          "output_type": "execute_result",
          "data": {
            "text/html": [
              "<div>\n",
              "<style scoped>\n",
              "    .dataframe tbody tr th:only-of-type {\n",
              "        vertical-align: middle;\n",
              "    }\n",
              "\n",
              "    .dataframe tbody tr th {\n",
              "        vertical-align: top;\n",
              "    }\n",
              "\n",
              "    .dataframe thead th {\n",
              "        text-align: right;\n",
              "    }\n",
              "</style>\n",
              "<table border=\"1\" class=\"dataframe\">\n",
              "  <thead>\n",
              "    <tr style=\"text-align: right;\">\n",
              "      <th></th>\n",
              "      <th>first_reason</th>\n",
              "      <th>second_reason</th>\n",
              "      <th>third_reason</th>\n",
              "      <th>fourt_reason</th>\n",
              "      <th>months</th>\n",
              "      <th>days</th>\n",
              "      <th>Transportation Expense</th>\n",
              "      <th>Distance to Work</th>\n",
              "      <th>Age</th>\n",
              "      <th>Daily Work Load Average</th>\n",
              "      <th>Body Mass Index</th>\n",
              "      <th>Education</th>\n",
              "      <th>Children</th>\n",
              "      <th>Pets</th>\n",
              "      <th>Absenteeism Time in Hours</th>\n",
              "    </tr>\n",
              "  </thead>\n",
              "  <tbody>\n",
              "    <tr>\n",
              "      <th>0</th>\n",
              "      <td>0</td>\n",
              "      <td>0</td>\n",
              "      <td>0</td>\n",
              "      <td>1</td>\n",
              "      <td>7</td>\n",
              "      <td>1</td>\n",
              "      <td>289</td>\n",
              "      <td>36</td>\n",
              "      <td>33</td>\n",
              "      <td>239.554</td>\n",
              "      <td>30</td>\n",
              "      <td>0</td>\n",
              "      <td>2</td>\n",
              "      <td>1</td>\n",
              "      <td>4</td>\n",
              "    </tr>\n",
              "    <tr>\n",
              "      <th>1</th>\n",
              "      <td>0</td>\n",
              "      <td>0</td>\n",
              "      <td>0</td>\n",
              "      <td>0</td>\n",
              "      <td>7</td>\n",
              "      <td>1</td>\n",
              "      <td>118</td>\n",
              "      <td>13</td>\n",
              "      <td>50</td>\n",
              "      <td>239.554</td>\n",
              "      <td>31</td>\n",
              "      <td>0</td>\n",
              "      <td>1</td>\n",
              "      <td>0</td>\n",
              "      <td>0</td>\n",
              "    </tr>\n",
              "    <tr>\n",
              "      <th>2</th>\n",
              "      <td>0</td>\n",
              "      <td>0</td>\n",
              "      <td>0</td>\n",
              "      <td>1</td>\n",
              "      <td>7</td>\n",
              "      <td>2</td>\n",
              "      <td>179</td>\n",
              "      <td>51</td>\n",
              "      <td>38</td>\n",
              "      <td>239.554</td>\n",
              "      <td>31</td>\n",
              "      <td>0</td>\n",
              "      <td>0</td>\n",
              "      <td>0</td>\n",
              "      <td>2</td>\n",
              "    </tr>\n",
              "    <tr>\n",
              "      <th>3</th>\n",
              "      <td>1</td>\n",
              "      <td>0</td>\n",
              "      <td>0</td>\n",
              "      <td>0</td>\n",
              "      <td>7</td>\n",
              "      <td>3</td>\n",
              "      <td>279</td>\n",
              "      <td>5</td>\n",
              "      <td>39</td>\n",
              "      <td>239.554</td>\n",
              "      <td>24</td>\n",
              "      <td>0</td>\n",
              "      <td>2</td>\n",
              "      <td>0</td>\n",
              "      <td>4</td>\n",
              "    </tr>\n",
              "    <tr>\n",
              "      <th>4</th>\n",
              "      <td>0</td>\n",
              "      <td>0</td>\n",
              "      <td>0</td>\n",
              "      <td>1</td>\n",
              "      <td>7</td>\n",
              "      <td>3</td>\n",
              "      <td>289</td>\n",
              "      <td>36</td>\n",
              "      <td>33</td>\n",
              "      <td>239.554</td>\n",
              "      <td>30</td>\n",
              "      <td>0</td>\n",
              "      <td>2</td>\n",
              "      <td>1</td>\n",
              "      <td>2</td>\n",
              "    </tr>\n",
              "  </tbody>\n",
              "</table>\n",
              "</div>"
            ],
            "text/plain": [
              "   first_reason  second_reason  ...  Pets  Absenteeism Time in Hours\n",
              "0             0              0  ...     1                          4\n",
              "1             0              0  ...     0                          0\n",
              "2             0              0  ...     0                          2\n",
              "3             1              0  ...     0                          4\n",
              "4             0              0  ...     1                          2\n",
              "\n",
              "[5 rows x 15 columns]"
            ]
          },
          "metadata": {
            "tags": []
          },
          "execution_count": 141
        }
      ]
    },
    {
      "cell_type": "markdown",
      "metadata": {
        "id": "6XWvwVC1srvA",
        "colab_type": "text"
      },
      "source": [
        "Lets find the mean of the Absenteeism and set the value as our threshold. that is a value less will be assign 0 and a value greater will be assigned 1. This helps to simplify our classification algorithm."
      ]
    },
    {
      "cell_type": "code",
      "metadata": {
        "id": "tQ1HZbKusJOG",
        "colab_type": "code",
        "outputId": "e734be7e-41a0-48dd-f300-03e92a45c740",
        "colab": {
          "base_uri": "https://localhost:8080/",
          "height": 35
        }
      },
      "source": [
        "threshold = data['Absenteeism Time in Hours'].median()\n",
        "threshold"
      ],
      "execution_count": 142,
      "outputs": [
        {
          "output_type": "execute_result",
          "data": {
            "text/plain": [
              "3.0"
            ]
          },
          "metadata": {
            "tags": []
          },
          "execution_count": 142
        }
      ]
    },
    {
      "cell_type": "code",
      "metadata": {
        "id": "NppDYNmTtSRq",
        "colab_type": "code",
        "colab": {}
      },
      "source": [
        "targets = np.where(data['Absenteeism Time in Hours']>threshold,1,0) "
      ],
      "execution_count": 0,
      "outputs": []
    },
    {
      "cell_type": "code",
      "metadata": {
        "id": "aM0k57Vktu4R",
        "colab_type": "code",
        "outputId": "a8eec974-9de6-46b9-ea4e-44278f9b8152",
        "colab": {
          "base_uri": "https://localhost:8080/",
          "height": 586
        }
      },
      "source": [
        "targets"
      ],
      "execution_count": 144,
      "outputs": [
        {
          "output_type": "execute_result",
          "data": {
            "text/plain": [
              "array([1, 0, 0, 1, 0, 0, 1, 1, 1, 1, 1, 1, 1, 0, 1, 1, 0, 1, 1, 0, 1, 0,\n",
              "       1, 1, 1, 1, 0, 1, 1, 0, 1, 1, 1, 1, 0, 0, 1, 1, 1, 1, 0, 1, 1, 1,\n",
              "       0, 0, 0, 1, 1, 1, 0, 0, 0, 0, 0, 0, 0, 0, 0, 0, 0, 1, 0, 0, 0, 0,\n",
              "       0, 0, 0, 0, 0, 1, 1, 0, 1, 1, 0, 1, 0, 0, 0, 0, 1, 1, 1, 1, 1, 1,\n",
              "       0, 1, 0, 1, 0, 1, 0, 0, 1, 0, 0, 1, 0, 1, 0, 1, 1, 1, 0, 0, 0, 1,\n",
              "       0, 1, 0, 0, 0, 0, 1, 0, 0, 0, 0, 0, 0, 0, 0, 0, 0, 0, 0, 1, 1, 0,\n",
              "       0, 0, 0, 0, 0, 0, 1, 1, 0, 1, 0, 1, 1, 1, 0, 0, 0, 1, 0, 1, 0, 0,\n",
              "       1, 0, 1, 0, 1, 1, 1, 1, 0, 1, 1, 1, 1, 1, 1, 1, 1, 0, 1, 1, 0, 1,\n",
              "       0, 1, 1, 0, 1, 0, 0, 0, 0, 0, 0, 1, 0, 0, 1, 1, 0, 0, 1, 0, 1, 1,\n",
              "       1, 1, 1, 1, 0, 0, 1, 0, 0, 1, 1, 1, 0, 0, 1, 0, 0, 0, 0, 0, 1, 1,\n",
              "       1, 1, 1, 1, 1, 1, 1, 1, 1, 1, 0, 1, 1, 0, 0, 0, 1, 1, 1, 1, 1, 1,\n",
              "       0, 1, 1, 0, 1, 1, 1, 1, 1, 0, 1, 0, 0, 1, 0, 0, 1, 1, 0, 1, 0, 0,\n",
              "       0, 0, 0, 1, 1, 1, 1, 0, 1, 0, 1, 0, 0, 0, 1, 1, 0, 1, 1, 1, 0, 0,\n",
              "       0, 1, 1, 1, 1, 1, 1, 0, 0, 1, 0, 1, 0, 1, 0, 1, 0, 0, 0, 0, 0, 1,\n",
              "       1, 0, 1, 0, 0, 0, 1, 1, 0, 1, 0, 1, 0, 0, 1, 1, 1, 0, 0, 0, 0, 0,\n",
              "       1, 1, 1, 0, 1, 1, 0, 0, 0, 0, 0, 0, 0, 0, 1, 1, 0, 0, 0, 1, 0, 0,\n",
              "       1, 1, 1, 0, 0, 1, 1, 1, 0, 0, 1, 1, 1, 1, 1, 0, 0, 0, 0, 0, 0, 0,\n",
              "       0, 0, 0, 1, 1, 0, 1, 0, 0, 0, 1, 0, 0, 1, 0, 0, 1, 1, 0, 1, 0, 1,\n",
              "       1, 1, 1, 1, 0, 1, 0, 0, 1, 0, 0, 0, 1, 1, 1, 0, 1, 0, 1, 1, 1, 1,\n",
              "       1, 0, 1, 1, 1, 1, 0, 1, 0, 1, 0, 1, 0, 0, 0, 0, 1, 0, 1, 0, 0, 1,\n",
              "       0, 0, 0, 0, 1, 1, 0, 1, 1, 0, 1, 1, 0, 0, 0, 1, 0, 0, 0, 1, 0, 1,\n",
              "       1, 1, 1, 1, 1, 1, 1, 0, 0, 1, 0, 0, 1, 1, 1, 0, 0, 0, 1, 0, 1, 1,\n",
              "       1, 1, 1, 1, 1, 1, 1, 0, 1, 0, 0, 0, 0, 0, 0, 0, 1, 0, 1, 0, 0, 1,\n",
              "       1, 0, 0, 1, 0, 0, 0, 0, 0, 0, 1, 0, 1, 1, 0, 0, 0, 1, 0, 1, 0, 1,\n",
              "       1, 1, 0, 0, 0, 0, 1, 0, 1, 1, 1, 1, 1, 0, 0, 0, 0, 1, 1, 0, 0, 0,\n",
              "       1, 0, 0, 1, 0, 1, 0, 0, 0, 0, 0, 1, 0, 1, 1, 1, 0, 0, 0, 1, 1, 1,\n",
              "       0, 0, 0, 0, 1, 0, 0, 1, 0, 0, 1, 0, 0, 1, 0, 1, 0, 0, 0, 0, 0, 0,\n",
              "       0, 0, 1, 0, 0, 0, 0, 0, 0, 0, 0, 0, 1, 0, 1, 0, 0, 0, 0, 0, 0, 0,\n",
              "       0, 0, 0, 0, 0, 0, 1, 0, 0, 0, 0, 0, 0, 1, 1, 0, 0, 0, 1, 0, 0, 1,\n",
              "       0, 1, 0, 0, 0, 0, 0, 0, 0, 1, 1, 0, 0, 0, 1, 1, 1, 1, 1, 1, 1, 0,\n",
              "       1, 0, 0, 0, 0, 1, 0, 1, 0, 0, 1, 1, 0, 0, 1, 0, 0, 0, 1, 0, 0, 1,\n",
              "       1, 1, 0, 0, 0, 0, 0, 0, 0, 0, 1, 1, 1, 1, 0, 1, 0, 0])"
            ]
          },
          "metadata": {
            "tags": []
          },
          "execution_count": 144
        }
      ]
    },
    {
      "cell_type": "code",
      "metadata": {
        "id": "BsdCrVggtwsz",
        "colab_type": "code",
        "colab": {}
      },
      "source": [
        "data['Absolute Absenteeism']=targets"
      ],
      "execution_count": 0,
      "outputs": []
    },
    {
      "cell_type": "code",
      "metadata": {
        "id": "QDHxKCNCubKj",
        "colab_type": "code",
        "outputId": "7b6237a6-6b51-4e4f-a986-0501904c5148",
        "colab": {
          "base_uri": "https://localhost:8080/",
          "height": 264
        }
      },
      "source": [
        "data.head()"
      ],
      "execution_count": 146,
      "outputs": [
        {
          "output_type": "execute_result",
          "data": {
            "text/html": [
              "<div>\n",
              "<style scoped>\n",
              "    .dataframe tbody tr th:only-of-type {\n",
              "        vertical-align: middle;\n",
              "    }\n",
              "\n",
              "    .dataframe tbody tr th {\n",
              "        vertical-align: top;\n",
              "    }\n",
              "\n",
              "    .dataframe thead th {\n",
              "        text-align: right;\n",
              "    }\n",
              "</style>\n",
              "<table border=\"1\" class=\"dataframe\">\n",
              "  <thead>\n",
              "    <tr style=\"text-align: right;\">\n",
              "      <th></th>\n",
              "      <th>first_reason</th>\n",
              "      <th>second_reason</th>\n",
              "      <th>third_reason</th>\n",
              "      <th>fourt_reason</th>\n",
              "      <th>months</th>\n",
              "      <th>days</th>\n",
              "      <th>Transportation Expense</th>\n",
              "      <th>Distance to Work</th>\n",
              "      <th>Age</th>\n",
              "      <th>Daily Work Load Average</th>\n",
              "      <th>Body Mass Index</th>\n",
              "      <th>Education</th>\n",
              "      <th>Children</th>\n",
              "      <th>Pets</th>\n",
              "      <th>Absenteeism Time in Hours</th>\n",
              "      <th>Absolute Absenteeism</th>\n",
              "    </tr>\n",
              "  </thead>\n",
              "  <tbody>\n",
              "    <tr>\n",
              "      <th>0</th>\n",
              "      <td>0</td>\n",
              "      <td>0</td>\n",
              "      <td>0</td>\n",
              "      <td>1</td>\n",
              "      <td>7</td>\n",
              "      <td>1</td>\n",
              "      <td>289</td>\n",
              "      <td>36</td>\n",
              "      <td>33</td>\n",
              "      <td>239.554</td>\n",
              "      <td>30</td>\n",
              "      <td>0</td>\n",
              "      <td>2</td>\n",
              "      <td>1</td>\n",
              "      <td>4</td>\n",
              "      <td>1</td>\n",
              "    </tr>\n",
              "    <tr>\n",
              "      <th>1</th>\n",
              "      <td>0</td>\n",
              "      <td>0</td>\n",
              "      <td>0</td>\n",
              "      <td>0</td>\n",
              "      <td>7</td>\n",
              "      <td>1</td>\n",
              "      <td>118</td>\n",
              "      <td>13</td>\n",
              "      <td>50</td>\n",
              "      <td>239.554</td>\n",
              "      <td>31</td>\n",
              "      <td>0</td>\n",
              "      <td>1</td>\n",
              "      <td>0</td>\n",
              "      <td>0</td>\n",
              "      <td>0</td>\n",
              "    </tr>\n",
              "    <tr>\n",
              "      <th>2</th>\n",
              "      <td>0</td>\n",
              "      <td>0</td>\n",
              "      <td>0</td>\n",
              "      <td>1</td>\n",
              "      <td>7</td>\n",
              "      <td>2</td>\n",
              "      <td>179</td>\n",
              "      <td>51</td>\n",
              "      <td>38</td>\n",
              "      <td>239.554</td>\n",
              "      <td>31</td>\n",
              "      <td>0</td>\n",
              "      <td>0</td>\n",
              "      <td>0</td>\n",
              "      <td>2</td>\n",
              "      <td>0</td>\n",
              "    </tr>\n",
              "    <tr>\n",
              "      <th>3</th>\n",
              "      <td>1</td>\n",
              "      <td>0</td>\n",
              "      <td>0</td>\n",
              "      <td>0</td>\n",
              "      <td>7</td>\n",
              "      <td>3</td>\n",
              "      <td>279</td>\n",
              "      <td>5</td>\n",
              "      <td>39</td>\n",
              "      <td>239.554</td>\n",
              "      <td>24</td>\n",
              "      <td>0</td>\n",
              "      <td>2</td>\n",
              "      <td>0</td>\n",
              "      <td>4</td>\n",
              "      <td>1</td>\n",
              "    </tr>\n",
              "    <tr>\n",
              "      <th>4</th>\n",
              "      <td>0</td>\n",
              "      <td>0</td>\n",
              "      <td>0</td>\n",
              "      <td>1</td>\n",
              "      <td>7</td>\n",
              "      <td>3</td>\n",
              "      <td>289</td>\n",
              "      <td>36</td>\n",
              "      <td>33</td>\n",
              "      <td>239.554</td>\n",
              "      <td>30</td>\n",
              "      <td>0</td>\n",
              "      <td>2</td>\n",
              "      <td>1</td>\n",
              "      <td>2</td>\n",
              "      <td>0</td>\n",
              "    </tr>\n",
              "  </tbody>\n",
              "</table>\n",
              "</div>"
            ],
            "text/plain": [
              "   first_reason  second_reason  ...  Absenteeism Time in Hours  Absolute Absenteeism\n",
              "0             0              0  ...                          4                     1\n",
              "1             0              0  ...                          0                     0\n",
              "2             0              0  ...                          2                     0\n",
              "3             1              0  ...                          4                     1\n",
              "4             0              0  ...                          2                     0\n",
              "\n",
              "[5 rows x 16 columns]"
            ]
          },
          "metadata": {
            "tags": []
          },
          "execution_count": 146
        }
      ]
    },
    {
      "cell_type": "code",
      "metadata": {
        "id": "oFqnd6AhudWW",
        "colab_type": "code",
        "colab": {}
      },
      "source": [
        "#training_data = data.drop(['Absenteeism Time in Hours'],axis=1)\n",
        "training_data = data.drop(['Absenteeism Time in Hours','Daily Work Load Average'],axis=1)"
      ],
      "execution_count": 0,
      "outputs": []
    },
    {
      "cell_type": "markdown",
      "metadata": {
        "id": "uz4Z6UqHve0v",
        "colab_type": "text"
      },
      "source": [
        "checking if training_data has the same memory location as data"
      ]
    },
    {
      "cell_type": "code",
      "metadata": {
        "id": "kfN0hG2tvJdm",
        "colab_type": "code",
        "outputId": "43982d52-5bb5-404d-cdee-abcce695cd08",
        "colab": {
          "base_uri": "https://localhost:8080/",
          "height": 35
        }
      },
      "source": [
        "training_data is data"
      ],
      "execution_count": 148,
      "outputs": [
        {
          "output_type": "execute_result",
          "data": {
            "text/plain": [
              "False"
            ]
          },
          "metadata": {
            "tags": []
          },
          "execution_count": 148
        }
      ]
    },
    {
      "cell_type": "code",
      "metadata": {
        "id": "X46WPGFwvr-o",
        "colab_type": "code",
        "colab": {}
      },
      "source": [
        "unscaled_input = training_data.iloc[:,:-1]"
      ],
      "execution_count": 0,
      "outputs": []
    },
    {
      "cell_type": "code",
      "metadata": {
        "id": "G_XIAOH2w2di",
        "colab_type": "code",
        "colab": {}
      },
      "source": [
        "from sklearn.preprocessing import StandardScaler\n",
        "\n",
        "absent_scaler = StandardScaler()"
      ],
      "execution_count": 0,
      "outputs": []
    },
    {
      "cell_type": "code",
      "metadata": {
        "id": "6UpbF-3fxsfZ",
        "colab_type": "code",
        "outputId": "b4cad9b7-3f07-4eec-965f-1d5bd87f16a4",
        "colab": {
          "base_uri": "https://localhost:8080/",
          "height": 35
        }
      },
      "source": [
        "absent_scaler.fit(unscaled_input)"
      ],
      "execution_count": 151,
      "outputs": [
        {
          "output_type": "execute_result",
          "data": {
            "text/plain": [
              "StandardScaler(copy=True, with_mean=True, with_std=True)"
            ]
          },
          "metadata": {
            "tags": []
          },
          "execution_count": 151
        }
      ]
    },
    {
      "cell_type": "code",
      "metadata": {
        "id": "EoZKR9w-xxYm",
        "colab_type": "code",
        "colab": {}
      },
      "source": [
        "scaled_inputs = absent_scaler.transform(unscaled_input)"
      ],
      "execution_count": 0,
      "outputs": []
    },
    {
      "cell_type": "code",
      "metadata": {
        "id": "MDX2fpw-yAya",
        "colab_type": "code",
        "outputId": "59f0accd-0ec7-4985-fe8a-9d2b36a28c9f",
        "colab": {
          "base_uri": "https://localhost:8080/",
          "height": 248
        }
      },
      "source": [
        "scaled_inputs"
      ],
      "execution_count": 153,
      "outputs": [
        {
          "output_type": "execute_result",
          "data": {
            "text/plain": [
              "array([[-0.57735027, -0.09298136, -0.39626354, ..., -0.44798003,\n",
              "         0.88046927,  0.26848661],\n",
              "       [-0.57735027, -0.09298136, -0.39626354, ..., -0.44798003,\n",
              "        -0.01928035, -0.58968976],\n",
              "       [-0.57735027, -0.09298136, -0.39626354, ..., -0.44798003,\n",
              "        -0.91902997, -0.58968976],\n",
              "       ...,\n",
              "       [ 1.73205081, -0.09298136, -0.39626354, ...,  2.23224237,\n",
              "        -0.91902997, -0.58968976],\n",
              "       [-0.57735027, -0.09298136, -0.39626354, ...,  2.23224237,\n",
              "        -0.91902997, -0.58968976],\n",
              "       [-0.57735027, -0.09298136, -0.39626354, ..., -0.44798003,\n",
              "        -0.01928035,  0.26848661]])"
            ]
          },
          "metadata": {
            "tags": []
          },
          "execution_count": 153
        }
      ]
    },
    {
      "cell_type": "code",
      "metadata": {
        "id": "EYEIfBrxypAy",
        "colab_type": "code",
        "colab": {}
      },
      "source": [
        "from sklearn.model_selection import train_test_split\n",
        "\n",
        "x_train,x_test,y_train,y_test = train_test_split(scaled_inputs,targets,train_size=0.8,random_state=42)"
      ],
      "execution_count": 0,
      "outputs": []
    },
    {
      "cell_type": "code",
      "metadata": {
        "id": "WMQIP4E52zdP",
        "colab_type": "code",
        "outputId": "69aa2865-d306-4336-9242-2a41616b028d",
        "colab": {
          "base_uri": "https://localhost:8080/",
          "height": 35
        }
      },
      "source": [
        "print(x_train.shape,y_train.shape)"
      ],
      "execution_count": 155,
      "outputs": [
        {
          "output_type": "stream",
          "text": [
            "(560, 13) (560,)\n"
          ],
          "name": "stdout"
        }
      ]
    },
    {
      "cell_type": "code",
      "metadata": {
        "id": "VvzULcEq2-5x",
        "colab_type": "code",
        "outputId": "a9beca45-404c-4256-b4b7-df2d967a319a",
        "colab": {
          "base_uri": "https://localhost:8080/",
          "height": 35
        }
      },
      "source": [
        "print(x_test.shape,y_test.shape)"
      ],
      "execution_count": 156,
      "outputs": [
        {
          "output_type": "stream",
          "text": [
            "(140, 13) (140,)\n"
          ],
          "name": "stdout"
        }
      ]
    },
    {
      "cell_type": "code",
      "metadata": {
        "id": "zHsH60lV3E7K",
        "colab_type": "code",
        "colab": {}
      },
      "source": [
        "from sklearn import metrics\n",
        "from sklearn.linear_model import LogisticRegression\n",
        "\n",
        "reg = LogisticRegression()"
      ],
      "execution_count": 0,
      "outputs": []
    },
    {
      "cell_type": "code",
      "metadata": {
        "id": "zyZV85D73_6T",
        "colab_type": "code",
        "outputId": "d0624341-52c1-4ee9-ec0f-9fa448a05290",
        "colab": {
          "base_uri": "https://localhost:8080/",
          "height": 106
        }
      },
      "source": [
        "reg.fit(x_train,y_train)"
      ],
      "execution_count": 158,
      "outputs": [
        {
          "output_type": "execute_result",
          "data": {
            "text/plain": [
              "LogisticRegression(C=1.0, class_weight=None, dual=False, fit_intercept=True,\n",
              "                   intercept_scaling=1, l1_ratio=None, max_iter=100,\n",
              "                   multi_class='auto', n_jobs=None, penalty='l2',\n",
              "                   random_state=None, solver='lbfgs', tol=0.0001, verbose=0,\n",
              "                   warm_start=False)"
            ]
          },
          "metadata": {
            "tags": []
          },
          "execution_count": 158
        }
      ]
    },
    {
      "cell_type": "code",
      "metadata": {
        "id": "Ft4S3sCH4Hfs",
        "colab_type": "code",
        "outputId": "755da7fc-2b6f-48c1-cd36-e11f344a3da1",
        "colab": {
          "base_uri": "https://localhost:8080/",
          "height": 35
        }
      },
      "source": [
        "reg.score(x_train,y_train)"
      ],
      "execution_count": 159,
      "outputs": [
        {
          "output_type": "execute_result",
          "data": {
            "text/plain": [
              "0.7946428571428571"
            ]
          },
          "metadata": {
            "tags": []
          },
          "execution_count": 159
        }
      ]
    },
    {
      "cell_type": "code",
      "metadata": {
        "id": "rW9rIG_74T9B",
        "colab_type": "code",
        "colab": {}
      },
      "source": [
        "predicting = reg.predict(x_train)"
      ],
      "execution_count": 0,
      "outputs": []
    },
    {
      "cell_type": "code",
      "metadata": {
        "id": "ni08452K4437",
        "colab_type": "code",
        "outputId": "e6f25ecd-9fcf-4ced-f213-ee9ba71b686f",
        "colab": {
          "base_uri": "https://localhost:8080/",
          "height": 35
        }
      },
      "source": [
        "print((predicting==y_train).mean())"
      ],
      "execution_count": 161,
      "outputs": [
        {
          "output_type": "stream",
          "text": [
            "0.7946428571428571\n"
          ],
          "name": "stdout"
        }
      ]
    },
    {
      "cell_type": "code",
      "metadata": {
        "id": "nV0rP-Pi5ABP",
        "colab_type": "code",
        "outputId": "ec54dadf-f80f-4eeb-c777-25aea8b88f51",
        "colab": {
          "base_uri": "https://localhost:8080/",
          "height": 35
        }
      },
      "source": [
        "np.sum(predicting==y_train)"
      ],
      "execution_count": 162,
      "outputs": [
        {
          "output_type": "execute_result",
          "data": {
            "text/plain": [
              "445"
            ]
          },
          "metadata": {
            "tags": []
          },
          "execution_count": 162
        }
      ]
    },
    {
      "cell_type": "code",
      "metadata": {
        "id": "Tn-FgaKH5Yj2",
        "colab_type": "code",
        "outputId": "1d0f4065-49e0-4993-ea62-592d0e830791",
        "colab": {
          "base_uri": "https://localhost:8080/",
          "height": 35
        }
      },
      "source": [
        "len(y_train)"
      ],
      "execution_count": 163,
      "outputs": [
        {
          "output_type": "execute_result",
          "data": {
            "text/plain": [
              "560"
            ]
          },
          "metadata": {
            "tags": []
          },
          "execution_count": 163
        }
      ]
    },
    {
      "cell_type": "code",
      "metadata": {
        "id": "lp2n1Zyx5eQd",
        "colab_type": "code",
        "outputId": "d935aabe-6acf-4da5-c2f6-f99a4e8ec705",
        "colab": {
          "base_uri": "https://localhost:8080/",
          "height": 35
        }
      },
      "source": [
        "np.sum(predicting==y_train)/len(y_train)"
      ],
      "execution_count": 164,
      "outputs": [
        {
          "output_type": "execute_result",
          "data": {
            "text/plain": [
              "0.7946428571428571"
            ]
          },
          "metadata": {
            "tags": []
          },
          "execution_count": 164
        }
      ]
    },
    {
      "cell_type": "code",
      "metadata": {
        "id": "eSwWX8rQ5mYA",
        "colab_type": "code",
        "outputId": "154dcfdd-dda9-4270-8509-00df942c3752",
        "colab": {
          "base_uri": "https://localhost:8080/",
          "height": 70
        }
      },
      "source": [
        "reg.coef_"
      ],
      "execution_count": 165,
      "outputs": [
        {
          "output_type": "execute_result",
          "data": {
            "text/plain": [
              "array([[ 1.94843979,  0.3134256 ,  1.68482886,  1.12740846,  0.1408849 ,\n",
              "        -0.156398  ,  0.6667021 , -0.10001487, -0.2739389 ,  0.23125552,\n",
              "        -0.21275269,  0.40247329, -0.53398197]])"
            ]
          },
          "metadata": {
            "tags": []
          },
          "execution_count": 165
        }
      ]
    },
    {
      "cell_type": "code",
      "metadata": {
        "id": "dkBAsnCxFQGu",
        "colab_type": "code",
        "outputId": "a80fe5ff-ba64-4447-ea02-a1a0637e81be",
        "colab": {
          "base_uri": "https://localhost:8080/",
          "height": 35
        }
      },
      "source": [
        "reg.intercept_"
      ],
      "execution_count": 166,
      "outputs": [
        {
          "output_type": "execute_result",
          "data": {
            "text/plain": [
              "array([-0.08773424])"
            ]
          },
          "metadata": {
            "tags": []
          },
          "execution_count": 166
        }
      ]
    },
    {
      "cell_type": "code",
      "metadata": {
        "id": "aERlnKMaFR6m",
        "colab_type": "code",
        "colab": {}
      },
      "source": [
        "feature_name = unscaled_input.columns.values"
      ],
      "execution_count": 0,
      "outputs": []
    },
    {
      "cell_type": "code",
      "metadata": {
        "id": "3gZZ7PfuFZJN",
        "colab_type": "code",
        "colab": {}
      },
      "source": [
        "summary_table = pd.DataFrame(columns=['feature_name'],data=feature_name)\n",
        "summary_table['coefficient'] = np.transpose(reg.coef_)"
      ],
      "execution_count": 0,
      "outputs": []
    },
    {
      "cell_type": "code",
      "metadata": {
        "id": "t1hVjRppGL0n",
        "colab_type": "code",
        "outputId": "2371a23c-d20e-4d6d-b35f-f81549bb3389",
        "colab": {
          "base_uri": "https://localhost:8080/",
          "height": 428
        }
      },
      "source": [
        "summary_table"
      ],
      "execution_count": 169,
      "outputs": [
        {
          "output_type": "execute_result",
          "data": {
            "text/html": [
              "<div>\n",
              "<style scoped>\n",
              "    .dataframe tbody tr th:only-of-type {\n",
              "        vertical-align: middle;\n",
              "    }\n",
              "\n",
              "    .dataframe tbody tr th {\n",
              "        vertical-align: top;\n",
              "    }\n",
              "\n",
              "    .dataframe thead th {\n",
              "        text-align: right;\n",
              "    }\n",
              "</style>\n",
              "<table border=\"1\" class=\"dataframe\">\n",
              "  <thead>\n",
              "    <tr style=\"text-align: right;\">\n",
              "      <th></th>\n",
              "      <th>feature_name</th>\n",
              "      <th>coefficient</th>\n",
              "    </tr>\n",
              "  </thead>\n",
              "  <tbody>\n",
              "    <tr>\n",
              "      <th>0</th>\n",
              "      <td>first_reason</td>\n",
              "      <td>1.948440</td>\n",
              "    </tr>\n",
              "    <tr>\n",
              "      <th>1</th>\n",
              "      <td>second_reason</td>\n",
              "      <td>0.313426</td>\n",
              "    </tr>\n",
              "    <tr>\n",
              "      <th>2</th>\n",
              "      <td>third_reason</td>\n",
              "      <td>1.684829</td>\n",
              "    </tr>\n",
              "    <tr>\n",
              "      <th>3</th>\n",
              "      <td>fourt_reason</td>\n",
              "      <td>1.127408</td>\n",
              "    </tr>\n",
              "    <tr>\n",
              "      <th>4</th>\n",
              "      <td>months</td>\n",
              "      <td>0.140885</td>\n",
              "    </tr>\n",
              "    <tr>\n",
              "      <th>5</th>\n",
              "      <td>days</td>\n",
              "      <td>-0.156398</td>\n",
              "    </tr>\n",
              "    <tr>\n",
              "      <th>6</th>\n",
              "      <td>Transportation Expense</td>\n",
              "      <td>0.666702</td>\n",
              "    </tr>\n",
              "    <tr>\n",
              "      <th>7</th>\n",
              "      <td>Distance to Work</td>\n",
              "      <td>-0.100015</td>\n",
              "    </tr>\n",
              "    <tr>\n",
              "      <th>8</th>\n",
              "      <td>Age</td>\n",
              "      <td>-0.273939</td>\n",
              "    </tr>\n",
              "    <tr>\n",
              "      <th>9</th>\n",
              "      <td>Body Mass Index</td>\n",
              "      <td>0.231256</td>\n",
              "    </tr>\n",
              "    <tr>\n",
              "      <th>10</th>\n",
              "      <td>Education</td>\n",
              "      <td>-0.212753</td>\n",
              "    </tr>\n",
              "    <tr>\n",
              "      <th>11</th>\n",
              "      <td>Children</td>\n",
              "      <td>0.402473</td>\n",
              "    </tr>\n",
              "    <tr>\n",
              "      <th>12</th>\n",
              "      <td>Pets</td>\n",
              "      <td>-0.533982</td>\n",
              "    </tr>\n",
              "  </tbody>\n",
              "</table>\n",
              "</div>"
            ],
            "text/plain": [
              "              feature_name  coefficient\n",
              "0             first_reason     1.948440\n",
              "1            second_reason     0.313426\n",
              "2             third_reason     1.684829\n",
              "3             fourt_reason     1.127408\n",
              "4                   months     0.140885\n",
              "5                     days    -0.156398\n",
              "6   Transportation Expense     0.666702\n",
              "7         Distance to Work    -0.100015\n",
              "8                      Age    -0.273939\n",
              "9          Body Mass Index     0.231256\n",
              "10               Education    -0.212753\n",
              "11                Children     0.402473\n",
              "12                    Pets    -0.533982"
            ]
          },
          "metadata": {
            "tags": []
          },
          "execution_count": 169
        }
      ]
    },
    {
      "cell_type": "code",
      "metadata": {
        "id": "cBn72Z_tGR9j",
        "colab_type": "code",
        "outputId": "b368a68b-a10f-4022-d687-92dfaac73746",
        "colab": {
          "base_uri": "https://localhost:8080/",
          "height": 458
        }
      },
      "source": [
        "summary_table.index = summary_table.index + 1\n",
        "summary_table.loc[0] = ['intercept',reg.intercept_[0]]\n",
        "summary_table = summary_table.sort_index()\n",
        "summary_table"
      ],
      "execution_count": 170,
      "outputs": [
        {
          "output_type": "execute_result",
          "data": {
            "text/html": [
              "<div>\n",
              "<style scoped>\n",
              "    .dataframe tbody tr th:only-of-type {\n",
              "        vertical-align: middle;\n",
              "    }\n",
              "\n",
              "    .dataframe tbody tr th {\n",
              "        vertical-align: top;\n",
              "    }\n",
              "\n",
              "    .dataframe thead th {\n",
              "        text-align: right;\n",
              "    }\n",
              "</style>\n",
              "<table border=\"1\" class=\"dataframe\">\n",
              "  <thead>\n",
              "    <tr style=\"text-align: right;\">\n",
              "      <th></th>\n",
              "      <th>feature_name</th>\n",
              "      <th>coefficient</th>\n",
              "    </tr>\n",
              "  </thead>\n",
              "  <tbody>\n",
              "    <tr>\n",
              "      <th>0</th>\n",
              "      <td>intercept</td>\n",
              "      <td>-0.087734</td>\n",
              "    </tr>\n",
              "    <tr>\n",
              "      <th>1</th>\n",
              "      <td>first_reason</td>\n",
              "      <td>1.948440</td>\n",
              "    </tr>\n",
              "    <tr>\n",
              "      <th>2</th>\n",
              "      <td>second_reason</td>\n",
              "      <td>0.313426</td>\n",
              "    </tr>\n",
              "    <tr>\n",
              "      <th>3</th>\n",
              "      <td>third_reason</td>\n",
              "      <td>1.684829</td>\n",
              "    </tr>\n",
              "    <tr>\n",
              "      <th>4</th>\n",
              "      <td>fourt_reason</td>\n",
              "      <td>1.127408</td>\n",
              "    </tr>\n",
              "    <tr>\n",
              "      <th>5</th>\n",
              "      <td>months</td>\n",
              "      <td>0.140885</td>\n",
              "    </tr>\n",
              "    <tr>\n",
              "      <th>6</th>\n",
              "      <td>days</td>\n",
              "      <td>-0.156398</td>\n",
              "    </tr>\n",
              "    <tr>\n",
              "      <th>7</th>\n",
              "      <td>Transportation Expense</td>\n",
              "      <td>0.666702</td>\n",
              "    </tr>\n",
              "    <tr>\n",
              "      <th>8</th>\n",
              "      <td>Distance to Work</td>\n",
              "      <td>-0.100015</td>\n",
              "    </tr>\n",
              "    <tr>\n",
              "      <th>9</th>\n",
              "      <td>Age</td>\n",
              "      <td>-0.273939</td>\n",
              "    </tr>\n",
              "    <tr>\n",
              "      <th>10</th>\n",
              "      <td>Body Mass Index</td>\n",
              "      <td>0.231256</td>\n",
              "    </tr>\n",
              "    <tr>\n",
              "      <th>11</th>\n",
              "      <td>Education</td>\n",
              "      <td>-0.212753</td>\n",
              "    </tr>\n",
              "    <tr>\n",
              "      <th>12</th>\n",
              "      <td>Children</td>\n",
              "      <td>0.402473</td>\n",
              "    </tr>\n",
              "    <tr>\n",
              "      <th>13</th>\n",
              "      <td>Pets</td>\n",
              "      <td>-0.533982</td>\n",
              "    </tr>\n",
              "  </tbody>\n",
              "</table>\n",
              "</div>"
            ],
            "text/plain": [
              "              feature_name  coefficient\n",
              "0                intercept    -0.087734\n",
              "1             first_reason     1.948440\n",
              "2            second_reason     0.313426\n",
              "3             third_reason     1.684829\n",
              "4             fourt_reason     1.127408\n",
              "5                   months     0.140885\n",
              "6                     days    -0.156398\n",
              "7   Transportation Expense     0.666702\n",
              "8         Distance to Work    -0.100015\n",
              "9                      Age    -0.273939\n",
              "10         Body Mass Index     0.231256\n",
              "11               Education    -0.212753\n",
              "12                Children     0.402473\n",
              "13                    Pets    -0.533982"
            ]
          },
          "metadata": {
            "tags": []
          },
          "execution_count": 170
        }
      ]
    },
    {
      "cell_type": "code",
      "metadata": {
        "id": "MVKPH8zMHVEm",
        "colab_type": "code",
        "colab": {}
      },
      "source": [
        "summary_table['logOdds'] = np.exp(summary_table.coefficient)"
      ],
      "execution_count": 0,
      "outputs": []
    },
    {
      "cell_type": "code",
      "metadata": {
        "id": "T5FAqfewIYYM",
        "colab_type": "code",
        "outputId": "74400c29-6e62-4f96-aba4-515c448e056c",
        "colab": {
          "base_uri": "https://localhost:8080/",
          "height": 458
        }
      },
      "source": [
        "summary_table"
      ],
      "execution_count": 172,
      "outputs": [
        {
          "output_type": "execute_result",
          "data": {
            "text/html": [
              "<div>\n",
              "<style scoped>\n",
              "    .dataframe tbody tr th:only-of-type {\n",
              "        vertical-align: middle;\n",
              "    }\n",
              "\n",
              "    .dataframe tbody tr th {\n",
              "        vertical-align: top;\n",
              "    }\n",
              "\n",
              "    .dataframe thead th {\n",
              "        text-align: right;\n",
              "    }\n",
              "</style>\n",
              "<table border=\"1\" class=\"dataframe\">\n",
              "  <thead>\n",
              "    <tr style=\"text-align: right;\">\n",
              "      <th></th>\n",
              "      <th>feature_name</th>\n",
              "      <th>coefficient</th>\n",
              "      <th>logOdds</th>\n",
              "    </tr>\n",
              "  </thead>\n",
              "  <tbody>\n",
              "    <tr>\n",
              "      <th>0</th>\n",
              "      <td>intercept</td>\n",
              "      <td>-0.087734</td>\n",
              "      <td>0.916004</td>\n",
              "    </tr>\n",
              "    <tr>\n",
              "      <th>1</th>\n",
              "      <td>first_reason</td>\n",
              "      <td>1.948440</td>\n",
              "      <td>7.017730</td>\n",
              "    </tr>\n",
              "    <tr>\n",
              "      <th>2</th>\n",
              "      <td>second_reason</td>\n",
              "      <td>0.313426</td>\n",
              "      <td>1.368104</td>\n",
              "    </tr>\n",
              "    <tr>\n",
              "      <th>3</th>\n",
              "      <td>third_reason</td>\n",
              "      <td>1.684829</td>\n",
              "      <td>5.391528</td>\n",
              "    </tr>\n",
              "    <tr>\n",
              "      <th>4</th>\n",
              "      <td>fourt_reason</td>\n",
              "      <td>1.127408</td>\n",
              "      <td>3.087644</td>\n",
              "    </tr>\n",
              "    <tr>\n",
              "      <th>5</th>\n",
              "      <td>months</td>\n",
              "      <td>0.140885</td>\n",
              "      <td>1.151292</td>\n",
              "    </tr>\n",
              "    <tr>\n",
              "      <th>6</th>\n",
              "      <td>days</td>\n",
              "      <td>-0.156398</td>\n",
              "      <td>0.855219</td>\n",
              "    </tr>\n",
              "    <tr>\n",
              "      <th>7</th>\n",
              "      <td>Transportation Expense</td>\n",
              "      <td>0.666702</td>\n",
              "      <td>1.947803</td>\n",
              "    </tr>\n",
              "    <tr>\n",
              "      <th>8</th>\n",
              "      <td>Distance to Work</td>\n",
              "      <td>-0.100015</td>\n",
              "      <td>0.904824</td>\n",
              "    </tr>\n",
              "    <tr>\n",
              "      <th>9</th>\n",
              "      <td>Age</td>\n",
              "      <td>-0.273939</td>\n",
              "      <td>0.760379</td>\n",
              "    </tr>\n",
              "    <tr>\n",
              "      <th>10</th>\n",
              "      <td>Body Mass Index</td>\n",
              "      <td>0.231256</td>\n",
              "      <td>1.260181</td>\n",
              "    </tr>\n",
              "    <tr>\n",
              "      <th>11</th>\n",
              "      <td>Education</td>\n",
              "      <td>-0.212753</td>\n",
              "      <td>0.808356</td>\n",
              "    </tr>\n",
              "    <tr>\n",
              "      <th>12</th>\n",
              "      <td>Children</td>\n",
              "      <td>0.402473</td>\n",
              "      <td>1.495519</td>\n",
              "    </tr>\n",
              "    <tr>\n",
              "      <th>13</th>\n",
              "      <td>Pets</td>\n",
              "      <td>-0.533982</td>\n",
              "      <td>0.586266</td>\n",
              "    </tr>\n",
              "  </tbody>\n",
              "</table>\n",
              "</div>"
            ],
            "text/plain": [
              "              feature_name  coefficient   logOdds\n",
              "0                intercept    -0.087734  0.916004\n",
              "1             first_reason     1.948440  7.017730\n",
              "2            second_reason     0.313426  1.368104\n",
              "3             third_reason     1.684829  5.391528\n",
              "4             fourt_reason     1.127408  3.087644\n",
              "5                   months     0.140885  1.151292\n",
              "6                     days    -0.156398  0.855219\n",
              "7   Transportation Expense     0.666702  1.947803\n",
              "8         Distance to Work    -0.100015  0.904824\n",
              "9                      Age    -0.273939  0.760379\n",
              "10         Body Mass Index     0.231256  1.260181\n",
              "11               Education    -0.212753  0.808356\n",
              "12                Children     0.402473  1.495519\n",
              "13                    Pets    -0.533982  0.586266"
            ]
          },
          "metadata": {
            "tags": []
          },
          "execution_count": 172
        }
      ]
    },
    {
      "cell_type": "markdown",
      "metadata": {
        "id": "Rpv_Yji3ACXN",
        "colab_type": "text"
      },
      "source": [
        "Creating a Transformer"
      ]
    },
    {
      "cell_type": "code",
      "metadata": {
        "id": "6_R3LaLoIZzm",
        "colab_type": "code",
        "colab": {}
      },
      "source": [
        "from sklearn.base import TransformerMixin, BaseEstimator\n",
        "\n",
        "class Scaler(BaseEstimator,TransformerMixin):\n",
        "\n",
        "    def __init__(self,columns,with_mean=True,with_std=True,copy=True):\n",
        "        self.scaler = StandardScaler(copy,with_mean,with_std)\n",
        "        self.columns = columns\n",
        "        self.mean_ = None\n",
        "        self.var_  = None\n",
        "\n",
        "    def fit(self,X,y=None):\n",
        "        self.scaler.fit(X[self.columns],y)\n",
        "        self.mean_ = np.mean(X[self.columns])\n",
        "        self.var_ = np.var(X[self.columns])\n",
        "        return self\n",
        "\n",
        "    def transform(self,X,y=None,copy=None):\n",
        "        init_column = X.columns\n",
        "        X_scaled = pd.DataFrame(self.scaler.transform(X[self.columns]),columns=self.columns)\n",
        "        X_unscaled = X.loc[:, ~X.columns.isin(self.columns)]\n",
        "        return pd.concat([X_scaled,X_unscaled],axis=1)[init_column]\n"
      ],
      "execution_count": 0,
      "outputs": []
    },
    {
      "cell_type": "code",
      "metadata": {
        "id": "EhHs9XYcAiO2",
        "colab_type": "code",
        "colab": {
          "base_uri": "https://localhost:8080/",
          "height": 88
        },
        "outputId": "fb24d43e-4398-4045-c91c-dca40d74ca7a"
      },
      "source": [
        "unscaled_input.columns.values\n"
      ],
      "execution_count": 174,
      "outputs": [
        {
          "output_type": "execute_result",
          "data": {
            "text/plain": [
              "array(['first_reason', 'second_reason', 'third_reason', 'fourt_reason',\n",
              "       'months', 'days', 'Transportation Expense', 'Distance to Work',\n",
              "       'Age', 'Body Mass Index', 'Education', 'Children', 'Pets'],\n",
              "      dtype=object)"
            ]
          },
          "metadata": {
            "tags": []
          },
          "execution_count": 174
        }
      ]
    },
    {
      "cell_type": "code",
      "metadata": {
        "id": "fGC5ygk0FvRY",
        "colab_type": "code",
        "colab": {}
      },
      "source": [
        "'''columns_to_scale = ['months', 'days', 'Transportation Expense', 'Distance to Work',\n",
        "       'Age', 'Daily Work Load Average', 'Body Mass Index','Children', 'Pets']'''\n",
        "omited_column = ['Daily Work Load Average','first_reason', 'second_reason', 'third_reason', 'fourt_reason']\n",
        "columns_to_scale = [X for X in unscaled_input.columns.values if X not in omited_column]\n"
      ],
      "execution_count": 0,
      "outputs": []
    },
    {
      "cell_type": "code",
      "metadata": {
        "id": "6mVSXdcBF83b",
        "colab_type": "code",
        "colab": {}
      },
      "source": [
        "absentieesm_scaler = Scaler(columns_to_scale)"
      ],
      "execution_count": 0,
      "outputs": []
    },
    {
      "cell_type": "code",
      "metadata": {
        "id": "KQzdwHBKGHp5",
        "colab_type": "code",
        "colab": {
          "base_uri": "https://localhost:8080/",
          "height": 126
        },
        "outputId": "1527ed56-bd3a-4330-b574-9bec126c77a6"
      },
      "source": [
        "absentieesm_scaler.fit(unscaled_input)"
      ],
      "execution_count": 181,
      "outputs": [
        {
          "output_type": "stream",
          "text": [
            "/usr/local/lib/python3.6/dist-packages/sklearn/base.py:197: FutureWarning: From version 0.24, get_params will raise an AttributeError if a parameter cannot be retrieved as an instance attribute. Previously it would return None.\n",
            "  FutureWarning)\n"
          ],
          "name": "stderr"
        },
        {
          "output_type": "execute_result",
          "data": {
            "text/plain": [
              "Scaler(columns=['months', 'days', 'Transportation Expense', 'Distance to Work',\n",
              "                'Age', 'Body Mass Index', 'Education', 'Children', 'Pets'],\n",
              "       copy=None, with_mean=None, with_std=None)"
            ]
          },
          "metadata": {
            "tags": []
          },
          "execution_count": 181
        }
      ]
    },
    {
      "cell_type": "code",
      "metadata": {
        "id": "w5_t1kRDGZQW",
        "colab_type": "code",
        "colab": {}
      },
      "source": [
        "scaled_input = absentieesm_scaler.transform(unscaled_input)"
      ],
      "execution_count": 0,
      "outputs": []
    },
    {
      "cell_type": "code",
      "metadata": {
        "id": "05DdHFFvG3oa",
        "colab_type": "code",
        "colab": {
          "base_uri": "https://localhost:8080/",
          "height": 416
        },
        "outputId": "4c879be5-82c2-41a2-dc9e-6d45729b3677"
      },
      "source": [
        "scaled_input"
      ],
      "execution_count": 183,
      "outputs": [
        {
          "output_type": "execute_result",
          "data": {
            "text/html": [
              "<div>\n",
              "<style scoped>\n",
              "    .dataframe tbody tr th:only-of-type {\n",
              "        vertical-align: middle;\n",
              "    }\n",
              "\n",
              "    .dataframe tbody tr th {\n",
              "        vertical-align: top;\n",
              "    }\n",
              "\n",
              "    .dataframe thead th {\n",
              "        text-align: right;\n",
              "    }\n",
              "</style>\n",
              "<table border=\"1\" class=\"dataframe\">\n",
              "  <thead>\n",
              "    <tr style=\"text-align: right;\">\n",
              "      <th></th>\n",
              "      <th>first_reason</th>\n",
              "      <th>second_reason</th>\n",
              "      <th>third_reason</th>\n",
              "      <th>fourt_reason</th>\n",
              "      <th>months</th>\n",
              "      <th>days</th>\n",
              "      <th>Transportation Expense</th>\n",
              "      <th>Distance to Work</th>\n",
              "      <th>Age</th>\n",
              "      <th>Body Mass Index</th>\n",
              "      <th>Education</th>\n",
              "      <th>Children</th>\n",
              "      <th>Pets</th>\n",
              "    </tr>\n",
              "  </thead>\n",
              "  <tbody>\n",
              "    <tr>\n",
              "      <th>0</th>\n",
              "      <td>0</td>\n",
              "      <td>0</td>\n",
              "      <td>0</td>\n",
              "      <td>1</td>\n",
              "      <td>0.182726</td>\n",
              "      <td>-0.683704</td>\n",
              "      <td>1.005844</td>\n",
              "      <td>0.412816</td>\n",
              "      <td>-0.536062</td>\n",
              "      <td>0.767431</td>\n",
              "      <td>-0.447980</td>\n",
              "      <td>0.880469</td>\n",
              "      <td>0.268487</td>\n",
              "    </tr>\n",
              "    <tr>\n",
              "      <th>1</th>\n",
              "      <td>0</td>\n",
              "      <td>0</td>\n",
              "      <td>0</td>\n",
              "      <td>0</td>\n",
              "      <td>0.182726</td>\n",
              "      <td>-0.683704</td>\n",
              "      <td>-1.574681</td>\n",
              "      <td>-1.141882</td>\n",
              "      <td>2.130803</td>\n",
              "      <td>1.002633</td>\n",
              "      <td>-0.447980</td>\n",
              "      <td>-0.019280</td>\n",
              "      <td>-0.589690</td>\n",
              "    </tr>\n",
              "    <tr>\n",
              "      <th>2</th>\n",
              "      <td>0</td>\n",
              "      <td>0</td>\n",
              "      <td>0</td>\n",
              "      <td>1</td>\n",
              "      <td>0.182726</td>\n",
              "      <td>-0.007725</td>\n",
              "      <td>-0.654143</td>\n",
              "      <td>1.426749</td>\n",
              "      <td>0.248310</td>\n",
              "      <td>1.002633</td>\n",
              "      <td>-0.447980</td>\n",
              "      <td>-0.919030</td>\n",
              "      <td>-0.589690</td>\n",
              "    </tr>\n",
              "    <tr>\n",
              "      <th>3</th>\n",
              "      <td>1</td>\n",
              "      <td>0</td>\n",
              "      <td>0</td>\n",
              "      <td>0</td>\n",
              "      <td>0.182726</td>\n",
              "      <td>0.668253</td>\n",
              "      <td>0.854936</td>\n",
              "      <td>-1.682647</td>\n",
              "      <td>0.405184</td>\n",
              "      <td>-0.643782</td>\n",
              "      <td>-0.447980</td>\n",
              "      <td>0.880469</td>\n",
              "      <td>-0.589690</td>\n",
              "    </tr>\n",
              "    <tr>\n",
              "      <th>4</th>\n",
              "      <td>0</td>\n",
              "      <td>0</td>\n",
              "      <td>0</td>\n",
              "      <td>1</td>\n",
              "      <td>0.182726</td>\n",
              "      <td>0.668253</td>\n",
              "      <td>1.005844</td>\n",
              "      <td>0.412816</td>\n",
              "      <td>-0.536062</td>\n",
              "      <td>0.767431</td>\n",
              "      <td>-0.447980</td>\n",
              "      <td>0.880469</td>\n",
              "      <td>0.268487</td>\n",
              "    </tr>\n",
              "    <tr>\n",
              "      <th>...</th>\n",
              "      <td>...</td>\n",
              "      <td>...</td>\n",
              "      <td>...</td>\n",
              "      <td>...</td>\n",
              "      <td>...</td>\n",
              "      <td>...</td>\n",
              "      <td>...</td>\n",
              "      <td>...</td>\n",
              "      <td>...</td>\n",
              "      <td>...</td>\n",
              "      <td>...</td>\n",
              "      <td>...</td>\n",
              "      <td>...</td>\n",
              "    </tr>\n",
              "    <tr>\n",
              "      <th>695</th>\n",
              "      <td>1</td>\n",
              "      <td>0</td>\n",
              "      <td>0</td>\n",
              "      <td>0</td>\n",
              "      <td>-0.388293</td>\n",
              "      <td>-0.007725</td>\n",
              "      <td>-0.654143</td>\n",
              "      <td>-0.533522</td>\n",
              "      <td>0.562059</td>\n",
              "      <td>-1.114186</td>\n",
              "      <td>2.232242</td>\n",
              "      <td>0.880469</td>\n",
              "      <td>-0.589690</td>\n",
              "    </tr>\n",
              "    <tr>\n",
              "      <th>696</th>\n",
              "      <td>1</td>\n",
              "      <td>0</td>\n",
              "      <td>0</td>\n",
              "      <td>0</td>\n",
              "      <td>-0.388293</td>\n",
              "      <td>-0.007725</td>\n",
              "      <td>0.040034</td>\n",
              "      <td>-0.263140</td>\n",
              "      <td>-1.320435</td>\n",
              "      <td>-0.643782</td>\n",
              "      <td>-0.447980</td>\n",
              "      <td>-0.019280</td>\n",
              "      <td>1.126663</td>\n",
              "    </tr>\n",
              "    <tr>\n",
              "      <th>697</th>\n",
              "      <td>1</td>\n",
              "      <td>0</td>\n",
              "      <td>0</td>\n",
              "      <td>0</td>\n",
              "      <td>-0.388293</td>\n",
              "      <td>0.668253</td>\n",
              "      <td>1.624567</td>\n",
              "      <td>-0.939096</td>\n",
              "      <td>-1.320435</td>\n",
              "      <td>-0.408580</td>\n",
              "      <td>2.232242</td>\n",
              "      <td>-0.919030</td>\n",
              "      <td>-0.589690</td>\n",
              "    </tr>\n",
              "    <tr>\n",
              "      <th>698</th>\n",
              "      <td>0</td>\n",
              "      <td>0</td>\n",
              "      <td>0</td>\n",
              "      <td>1</td>\n",
              "      <td>-0.388293</td>\n",
              "      <td>0.668253</td>\n",
              "      <td>0.190942</td>\n",
              "      <td>-0.939096</td>\n",
              "      <td>-0.692937</td>\n",
              "      <td>-0.408580</td>\n",
              "      <td>2.232242</td>\n",
              "      <td>-0.919030</td>\n",
              "      <td>-0.589690</td>\n",
              "    </tr>\n",
              "    <tr>\n",
              "      <th>699</th>\n",
              "      <td>0</td>\n",
              "      <td>0</td>\n",
              "      <td>0</td>\n",
              "      <td>1</td>\n",
              "      <td>-0.388293</td>\n",
              "      <td>0.668253</td>\n",
              "      <td>1.036026</td>\n",
              "      <td>0.074838</td>\n",
              "      <td>0.562059</td>\n",
              "      <td>-0.408580</td>\n",
              "      <td>-0.447980</td>\n",
              "      <td>-0.019280</td>\n",
              "      <td>0.268487</td>\n",
              "    </tr>\n",
              "  </tbody>\n",
              "</table>\n",
              "<p>700 rows × 13 columns</p>\n",
              "</div>"
            ],
            "text/plain": [
              "     first_reason  second_reason  third_reason  ...  Education  Children      Pets\n",
              "0               0              0             0  ...  -0.447980  0.880469  0.268487\n",
              "1               0              0             0  ...  -0.447980 -0.019280 -0.589690\n",
              "2               0              0             0  ...  -0.447980 -0.919030 -0.589690\n",
              "3               1              0             0  ...  -0.447980  0.880469 -0.589690\n",
              "4               0              0             0  ...  -0.447980  0.880469  0.268487\n",
              "..            ...            ...           ...  ...        ...       ...       ...\n",
              "695             1              0             0  ...   2.232242  0.880469 -0.589690\n",
              "696             1              0             0  ...  -0.447980 -0.019280  1.126663\n",
              "697             1              0             0  ...   2.232242 -0.919030 -0.589690\n",
              "698             0              0             0  ...   2.232242 -0.919030 -0.589690\n",
              "699             0              0             0  ...  -0.447980 -0.019280  0.268487\n",
              "\n",
              "[700 rows x 13 columns]"
            ]
          },
          "metadata": {
            "tags": []
          },
          "execution_count": 183
        }
      ]
    },
    {
      "cell_type": "code",
      "metadata": {
        "id": "d19N_Cu0Kp-U",
        "colab_type": "code",
        "colab": {}
      },
      "source": [
        "x_train,x_test,y_train,y_test = train_test_split(scaled_input,targets,train_size=0.8,random_state=42)"
      ],
      "execution_count": 0,
      "outputs": []
    },
    {
      "cell_type": "code",
      "metadata": {
        "id": "OcVYDcn4LOpE",
        "colab_type": "code",
        "colab": {
          "base_uri": "https://localhost:8080/",
          "height": 106
        },
        "outputId": "aa66b34e-c172-46a4-9a46-8295685fac89"
      },
      "source": [
        "reg.fit(x_train,y_train)"
      ],
      "execution_count": 185,
      "outputs": [
        {
          "output_type": "execute_result",
          "data": {
            "text/plain": [
              "LogisticRegression(C=1.0, class_weight=None, dual=False, fit_intercept=True,\n",
              "                   intercept_scaling=1, l1_ratio=None, max_iter=100,\n",
              "                   multi_class='auto', n_jobs=None, penalty='l2',\n",
              "                   random_state=None, solver='lbfgs', tol=0.0001, verbose=0,\n",
              "                   warm_start=False)"
            ]
          },
          "metadata": {
            "tags": []
          },
          "execution_count": 185
        }
      ]
    },
    {
      "cell_type": "code",
      "metadata": {
        "id": "B98ddEVhLUMt",
        "colab_type": "code",
        "colab": {}
      },
      "source": [
        "pred = reg.predict(x_train)"
      ],
      "execution_count": 0,
      "outputs": []
    },
    {
      "cell_type": "code",
      "metadata": {
        "id": "v9-HI18gLZgh",
        "colab_type": "code",
        "colab": {
          "base_uri": "https://localhost:8080/",
          "height": 35
        },
        "outputId": "c89b8b53-0d82-4f10-d931-cc0d634d691d"
      },
      "source": [
        "print(np.mean(y_train==pred))"
      ],
      "execution_count": 187,
      "outputs": [
        {
          "output_type": "stream",
          "text": [
            "0.7857142857142857\n"
          ],
          "name": "stdout"
        }
      ]
    },
    {
      "cell_type": "code",
      "metadata": {
        "id": "eAQ4TYnyLgtr",
        "colab_type": "code",
        "colab": {}
      },
      "source": [
        "pred1 = reg.predict(x_test)"
      ],
      "execution_count": 0,
      "outputs": []
    },
    {
      "cell_type": "code",
      "metadata": {
        "id": "RmSjf4V-Ln2L",
        "colab_type": "code",
        "colab": {
          "base_uri": "https://localhost:8080/",
          "height": 35
        },
        "outputId": "343586f3-c37b-4ba8-8e1e-5c16b9c5b499"
      },
      "source": [
        "print(np.mean(pred1==y_test))"
      ],
      "execution_count": 189,
      "outputs": [
        {
          "output_type": "stream",
          "text": [
            "0.8\n"
          ],
          "name": "stdout"
        }
      ]
    },
    {
      "cell_type": "code",
      "metadata": {
        "id": "_7B7wrg9LxA-",
        "colab_type": "code",
        "colab": {}
      },
      "source": [
        ""
      ],
      "execution_count": 0,
      "outputs": []
    },
    {
      "cell_type": "markdown",
      "metadata": {
        "id": "X9dsYlBiOiYk",
        "colab_type": "text"
      },
      "source": [
        "As we can see from the model some information are not necessary and contribute little or no influence to the accuracy of our model. Therefore we will be removing them."
      ]
    },
    {
      "cell_type": "code",
      "metadata": {
        "id": "ZwO24xPiO2EI",
        "colab_type": "code",
        "colab": {
          "base_uri": "https://localhost:8080/",
          "height": 35
        },
        "outputId": "cbeafeab-7651-4914-9ded-5193771b4806"
      },
      "source": [
        "reg.score(x_test,y_test)"
      ],
      "execution_count": 190,
      "outputs": [
        {
          "output_type": "execute_result",
          "data": {
            "text/plain": [
              "0.8"
            ]
          },
          "metadata": {
            "tags": []
          },
          "execution_count": 190
        }
      ]
    },
    {
      "cell_type": "code",
      "metadata": {
        "id": "wIKMDYHtR4yL",
        "colab_type": "code",
        "colab": {}
      },
      "source": [
        "prob = reg.predict_proba(x_test)"
      ],
      "execution_count": 0,
      "outputs": []
    },
    {
      "cell_type": "code",
      "metadata": {
        "id": "UviuHtFvSsKw",
        "colab_type": "code",
        "colab": {}
      },
      "source": [
        "prob1 = prob[:,1]"
      ],
      "execution_count": 0,
      "outputs": []
    },
    {
      "cell_type": "code",
      "metadata": {
        "id": "nmY9CwcdS3M4",
        "colab_type": "code",
        "colab": {
          "base_uri": "https://localhost:8080/",
          "height": 515
        },
        "outputId": "320b93fa-e960-4e12-90cd-5d52baa09d51"
      },
      "source": [
        "prob1"
      ],
      "execution_count": 194,
      "outputs": [
        {
          "output_type": "execute_result",
          "data": {
            "text/plain": [
              "array([0.17860939, 0.11689534, 0.86098145, 0.38393399, 0.43708857,\n",
              "       0.90196154, 0.25342923, 0.58038865, 0.24065622, 0.29066153,\n",
              "       0.10022834, 0.24741508, 0.7713747 , 0.3097279 , 0.19397278,\n",
              "       0.55000247, 0.08254225, 0.69026204, 0.09715922, 0.34397391,\n",
              "       0.32321521, 0.22264533, 0.27458769, 0.26132907, 0.14163171,\n",
              "       0.79945063, 0.3285733 , 0.38229192, 0.19967339, 0.32100654,\n",
              "       0.11216046, 0.16576688, 0.95857919, 0.93814445, 0.18275776,\n",
              "       0.69677736, 0.23375502, 0.16637128, 0.85814271, 0.17217849,\n",
              "       0.567017  , 0.23560242, 0.45607386, 0.13392545, 0.17852729,\n",
              "       0.70239472, 0.79024431, 0.89921262, 0.28239747, 0.12564105,\n",
              "       0.22867438, 0.26776837, 0.38491328, 0.94522899, 0.176164  ,\n",
              "       0.23099187, 0.97190534, 0.21720739, 0.86274965, 0.22429035,\n",
              "       0.42838846, 0.13960235, 0.49577953, 0.58038865, 0.10022834,\n",
              "       0.3731561 , 0.69546191, 0.07844829, 0.22388887, 0.52324319,\n",
              "       0.29066153, 0.21747235, 0.76266914, 0.26776837, 0.12145826,\n",
              "       0.64936287, 0.37677714, 0.18954292, 0.17267532, 0.42145579,\n",
              "       0.90196154, 0.8842187 , 0.15250579, 0.19353437, 0.1233609 ,\n",
              "       0.60146073, 0.19353437, 0.81483457, 0.79050239, 0.26105745,\n",
              "       0.14549228, 0.6396991 , 0.33653964, 0.19942459, 0.39350661,\n",
              "       0.85814271, 0.60483713, 0.94239215, 0.677652  , 0.80176201,\n",
              "       0.27420858, 0.68200221, 0.19490032, 0.8420265 , 0.13241412,\n",
              "       0.95700808, 0.8513681 , 0.17217849, 0.12192472, 0.59480983,\n",
              "       0.61564826, 0.56115846, 0.91139741, 0.27486815, 0.7218214 ,\n",
              "       0.51991665, 0.89760351, 0.88906163, 0.45454284, 0.87156129,\n",
              "       0.26304656, 0.76944602, 0.77782295, 0.70148165, 0.69543012,\n",
              "       0.91140729, 0.19490032, 0.28112895, 0.70363112, 0.18706701,\n",
              "       0.29658981, 0.14425059, 0.78298809, 0.55228378, 0.28239747,\n",
              "       0.94423706, 0.55858573, 0.56963693, 0.32005606, 0.14219418])"
            ]
          },
          "metadata": {
            "tags": []
          },
          "execution_count": 194
        }
      ]
    },
    {
      "cell_type": "code",
      "metadata": {
        "id": "6r8-v9UnS4lz",
        "colab_type": "code",
        "colab": {}
      },
      "source": [
        ""
      ],
      "execution_count": 0,
      "outputs": []
    },
    {
      "cell_type": "markdown",
      "metadata": {
        "id": "ezIJ8i0yUvT6",
        "colab_type": "text"
      },
      "source": [
        "# Saving our model using pickle\n",
        " \n",
        " The model can be saved using the pickle library and later unloaded for use just like joblib"
      ]
    },
    {
      "cell_type": "code",
      "metadata": {
        "id": "rsxArIkvVF0h",
        "colab_type": "code",
        "colab": {}
      },
      "source": [
        "import pickle"
      ],
      "execution_count": 0,
      "outputs": []
    },
    {
      "cell_type": "code",
      "metadata": {
        "id": "_CgKhJAxVJVI",
        "colab_type": "code",
        "colab": {}
      },
      "source": [
        "with open('model','wb') as file:\n",
        "    pickle.dump(reg,file)\n"
      ],
      "execution_count": 0,
      "outputs": []
    },
    {
      "cell_type": "code",
      "metadata": {
        "id": "Gxz1Sn2lVsf7",
        "colab_type": "code",
        "colab": {}
      },
      "source": [
        "with open('scaler','wb') as file:\n",
        "    pickle.dump(absentieesm_scaler,file)"
      ],
      "execution_count": 0,
      "outputs": []
    },
    {
      "cell_type": "code",
      "metadata": {
        "id": "FsxUQFbvV9lF",
        "colab_type": "code",
        "colab": {}
      },
      "source": [
        ""
      ],
      "execution_count": 0,
      "outputs": []
    }
  ]
}